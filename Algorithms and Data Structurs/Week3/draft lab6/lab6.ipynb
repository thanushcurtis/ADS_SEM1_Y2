{
 "cells": [
  {
   "cell_type": "markdown",
   "metadata": {},
   "source": [
    "# ECS529U Algorithms and Data Structures\n",
    "# Lab sheet 6\n",
    "\n",
    "This lab gets you to work with linked lists.\n",
    "\n",
    "**Marks (max 5):**  Questions 1-3: 1 each  |  Questions 4-5: 0.5 each  |  Question 6: 1"
   ]
  },
  {
   "cell_type": "markdown",
   "metadata": {},
   "source": [
    "## Question 1\n",
    "\n",
    "You are asked to solve the following pointer game. Start with this initial configuration:\n",
    "\n",
    "![pointers](pointerz.jpg)\n",
    "    \n",
    "Perform the following groups of operations and draw the new final lists in each case. Each \n",
    "time, start from the initial configuration above.\n",
    "\n",
    "     a) ls1.next = ls1.next.next\n",
    "        ls2.next = ls1.next\n",
    "        ls2.next.data = 42\n",
    "    \n",
    "     b) while ptr1.next != None:\n",
    "            ptr1.data = 42\n",
    "            ptr1 = ptr1.next\n",
    "        ptr1.data = 24\n",
    "    \n",
    "     c) ptr1.next = ls2\n",
    "        ptr1.next.data = 40\n",
    "        ptr2 = ptr2.next\n",
    "        ls2 = Node(4,ls1)\n",
    "        ls1 = ptr2"
   ]
  },
  {
   "cell_type": "code",
   "execution_count": 5,
   "metadata": {},
   "outputs": [],
   "source": [
    "class Node:\n",
    "    def __init__(self, d, n):\n",
    "        self.data = d\n",
    "        self.next = n\n",
    "\n",
    "\n",
    "def toString():\n",
    "        st = \"\"\n",
    "        ptr = ls\n",
    "        while ptr != None:\n",
    "            st += str(ptr.data) + \" -> \"\n",
    "            ptr = ptr.next\n",
    "        st += \"None\"\n",
    "        return st"
   ]
  },
  {
   "cell_type": "code",
   "execution_count": 6,
   "metadata": {},
   "outputs": [
    {
     "name": "stdout",
     "output_type": "stream",
     "text": [
      "5 -> 6 -> 7 -> 8 -> 9 -> None\n"
     ]
    }
   ],
   "source": [
    "ls= Node(9,None)\n",
    "ls= Node(8,ls)\n",
    "ls= Node(7,ls)\n",
    "ls= Node(6,ls)\n",
    "ls= Node(5,ls)\n",
    "\n",
    "ls2=Node(30,None)\n",
    "ls2=Node(20,ls2)\n",
    "ls2=Node(10,ls2)\n",
    "\n",
    "ptr1=ls.next.next\n",
    "ptr2=ls.next.next.next\n",
    "\n",
    "print(toString())"
   ]
  },
  {
   "cell_type": "code",
   "execution_count": 7,
   "metadata": {},
   "outputs": [],
   "source": [
    "ls.next = ls.next.next\n",
    "ls2.next = ls.next\n",
    "ls2.next.data = 42"
   ]
  },
  {
   "cell_type": "code",
   "execution_count": 8,
   "metadata": {},
   "outputs": [
    {
     "name": "stdout",
     "output_type": "stream",
     "text": [
      "5 -> 42 -> 8 -> 9 -> None\n"
     ]
    }
   ],
   "source": [
    "print(toString())"
   ]
  },
  {
   "cell_type": "code",
   "execution_count": 9,
   "metadata": {},
   "outputs": [],
   "source": [
    "ls= Node(9,None)\n",
    "ls= Node(8,ls)\n",
    "ls= Node(7,ls)\n",
    "ls= Node(6,ls)\n",
    "ls= Node(5,ls)\n",
    "\n",
    "ls2=Node(30,None)\n",
    "ls2=Node(20,ls2)\n",
    "ls2=Node(10,ls2)\n",
    "\n",
    "ptr1=ls.next.next\n",
    "ptr2=ls.next.next.next\n"
   ]
  },
  {
   "cell_type": "code",
   "execution_count": 10,
   "metadata": {},
   "outputs": [],
   "source": [
    "while ptr1.next != None:\n",
    "    ptr1.data = 42\n",
    "    ptr1 = ptr1.next\n",
    "ptr1.data = 24"
   ]
  },
  {
   "cell_type": "code",
   "execution_count": 11,
   "metadata": {},
   "outputs": [
    {
     "name": "stdout",
     "output_type": "stream",
     "text": [
      "5 -> 6 -> 42 -> 42 -> 24 -> None\n"
     ]
    }
   ],
   "source": [
    "print(toString())"
   ]
  },
  {
   "cell_type": "code",
   "execution_count": 12,
   "metadata": {},
   "outputs": [],
   "source": [
    "ls= Node(9,None)\n",
    "ls= Node(8,ls)\n",
    "ls= Node(7,ls)\n",
    "ls= Node(6,ls)\n",
    "ls= Node(5,ls)\n",
    "\n",
    "ls2=Node(30,None)\n",
    "ls2=Node(20,ls2)\n",
    "ls2=Node(10,ls2)\n",
    "\n",
    "ptr1=ls.next.next\n",
    "ptr2=ls.next.next.next"
   ]
  },
  {
   "cell_type": "code",
   "execution_count": 13,
   "metadata": {},
   "outputs": [],
   "source": [
    "ptr1.next = ls2\n",
    "ptr1.next.data = 40\n",
    "ptr2 = ptr2.next\n",
    "ls2 = Node(4,ls)\n",
    "ls = ptr2"
   ]
  },
  {
   "cell_type": "code",
   "execution_count": 14,
   "metadata": {},
   "outputs": [
    {
     "name": "stdout",
     "output_type": "stream",
     "text": [
      "9 -> None\n"
     ]
    }
   ],
   "source": [
    "print(toString())"
   ]
  },
  {
   "cell_type": "markdown",
   "metadata": {},
   "source": [
    "For the next four Questions, you are asked to work on the Python implementation of the \n",
    "LinkedList class that we saw in the lecture (week 5). The code is in `lecture5.ipynb`."
   ]
  },
  {
   "cell_type": "code",
   "execution_count": 9,
   "metadata": {},
   "outputs": [],
   "source": [
    "class Node:\n",
    "    def __init__(self, d, n):\n",
    "        self.data = d\n",
    "        self.next = n\n",
    "\n",
    "class LinkedList:\n",
    "    def __init__(self):\n",
    "        self.head = None\n",
    "        self.length = 0\n",
    "\n",
    "    def __str__(self):\n",
    "        if self.head == None: \n",
    "            return \"empty\"\n",
    "        st = \"-\"\n",
    "        ptr = self.head\n",
    "        while ptr != None:\n",
    "            st += \"-> \"+str(ptr.data)+\" \"\n",
    "            ptr = ptr.next\n",
    "        return st+\"|\"\n",
    "        \n",
    "    def search(self, d):\n",
    "        i = 0\n",
    "        ptr = self.head\n",
    "        while ptr != None:\n",
    "            if ptr.data == d:\n",
    "                return i\n",
    "            ptr = ptr.next\n",
    "            i += 1\n",
    "        return -1\n",
    "    \n",
    "    def search2(self, d): # recursive implementation\n",
    "        def searchRec(ptr,d,i):\n",
    "            if ptr == None: return -1\n",
    "            if prt.data == d: return i\n",
    "            return searchRec(ptr.next,d,i+1)\n",
    "        \n",
    "        return searchRec(self.head,d,0)    \n",
    "    \n",
    "    def append(self, d):\n",
    "        if self.head == None:      \n",
    "            self.head = Node(d,None) \n",
    "        else:\n",
    "            ptr = self.head\n",
    "            while ptr.next != None:\n",
    "                ptr = ptr.next\n",
    "            ptr.next = Node(d,None)\n",
    "        self.length += 1\n",
    "\n",
    "    def insert(self, i, d):\n",
    "        if self.head == None or i == 0:\n",
    "            self.head = Node(d,self.head)\n",
    "        else:\n",
    "            ptr = self.head\n",
    "            while i>1 and ptr.next != None:\n",
    "                ptr = ptr.next\n",
    "                i -= 1\n",
    "            ptr.next = Node(d,ptr.next)\n",
    "        self.length += 1\n",
    "\n",
    "    def remove(self, i): # removes i-th element and returns it\n",
    "        if self.head == None:\n",
    "            return None\n",
    "        if i == 0:\n",
    "            val = self.head.data\n",
    "            self.head = self.head.next\n",
    "            self.length -= 1\n",
    "            return val\n",
    "        ptr = self.head\n",
    "        while ptr.next != None:\n",
    "            if i == 1:\n",
    "                val = ptr.next.data\n",
    "                ptr.next = ptr.next.next\n",
    "                self.length -= 1\n",
    "                return val                \n",
    "            ptr = ptr.next\n",
    "            i -= 1\n",
    "            \n",
    "    def removeVal(self, d):\n",
    "        if self.head == None:\n",
    "            return -1\n",
    "        if self.head.data == d:\n",
    "            self.head = self.head.next\n",
    "            self.length -= 1\n",
    "            return 0\n",
    "        else:\n",
    "            i = 0\n",
    "            ptr = self.head\t\n",
    "            while ptr.next != None:\n",
    "                if ptr.next.data == d:\n",
    "                    ptr.next = ptr.next.next\n",
    "                    self.length -= 1\n",
    "                    return i+1\n",
    "                ptr = ptr.next\n",
    "                i += 1\n",
    "        return -1\n",
    "    \n",
    "    def sublist(self, i):\n",
    "        ptr = self.head\n",
    "        ls = LinkedList()\n",
    "        ls.length = self.length\n",
    "        while ptr != None and i>0:\n",
    "            ptr = ptr.next\n",
    "            i -= 1\n",
    "            ls.length -= 1\n",
    "        ls.head = ptr\n",
    "        return ls\n",
    "    \n",
    "    def get(self, i):\n",
    "        ptr = self.head\n",
    "        while i > 0:\n",
    "            ptr = ptr.next\n",
    "            i -= 1\n",
    "        return ptr.data\n",
    "    \n",
    "    def set(self, i, d):\n",
    "        ptr = self.head\n",
    "        while i > 0:\n",
    "            ptr = ptr.next\n",
    "            i -= 1\n",
    "        ptr.data = d\n",
    "    \n",
    "    def appendAll(self,A):\n",
    "        for i in range(len(A)):\n",
    "            self.append(A[i])\n",
    "\n",
    "    def nullify(self):\n",
    "        size=self.length\n",
    "        for i in range(size+1):\n",
    "            self.remove(size)\n",
    "            size -= 1\n",
    "        self.head = Node([],None)\n",
    "        \n",
    "            \n"
   ]
  },
  {
   "cell_type": "markdown",
   "metadata": {},
   "source": [
    "## Question 2\n",
    "\n",
    "Add in `LinkedList` the following functions:\n",
    "\n",
    "a) `def appendAll(self, A)` [no marks, solved in class]\n",
    "\n",
    "that appends to the linked list (the one represented by \n",
    "`self`) all elements of the array `A`. \n",
    "For example, if `ls` is `[2,3,4,3,5]` then `ls.appendAll([4,2,1])` changes `ls` to \n",
    "`[2,3,4,3,5,4,2,1]`.\n",
    "\n",
    "Consider how efficient is your implementation -- can you do better?\n",
    "\n",
    "b) `def nullify(self)`\n",
    "\n",
    "that removes all elements from the list. I.e. `ls.nullify()` changes `ls` to `[]`.\n",
    "\n",
    "c) `def clone(self)`\n",
    "\n",
    "that creates a (new) copy of the list. For example, if `ls` is `[2,3,4,5]` then `ls.clone()` should return a new list `[2,3,4,5]`. The original list should not be changed.\n",
    "\n",
    "d) `def merge(self, other)`\n",
    "\n",
    "that merges the linked list with the linked list `other`. After merging, the list `other` should be empty and all its elements be part of `self`. For example, if `ls` is `[2,3,4,5]`\n",
    "and `ls2` is `[42,17]`, then:\n",
    "\n",
    "      ls.merge(ls2) \n",
    "      print(ls,\",\",ls.length,\",\",ls2,\",\",ls2.length)      \n",
    "should print `--> 2 -> 3 -> 4 -> 5 -> 42 -> 17 ->| , 6 , -->| , 0`."
   ]
  },
  {
   "cell_type": "code",
   "execution_count": 10,
   "metadata": {},
   "outputs": [
    {
     "name": "stdout",
     "output_type": "stream",
     "text": [
      "appendAll test: --> 2 -> 3 -> 4 -> 5 | , 4\n",
      "appendAll test: --> 2 -> 3 -> 4 -> 5 -> 42 -> 24 | , 6\n",
      "--> [] |\n",
      "nullify test: --> [] | , 0\n"
     ]
    }
   ],
   "source": [
    "ls = LinkedList()\n",
    "ls.appendAll([2,3,4,5])\n",
    "print(\"appendAll test:\",ls,\",\",ls.length)\n",
    "ls.appendAll([42,24])\n",
    "print(\"appendAll test:\",ls,\",\",ls.length)\n",
    "\n",
    "\n",
    "ls.nullify()\n",
    "print(ls)\n",
    "print(\"nullify test:\",ls,\",\",ls.length)"
   ]
  },
  {
   "cell_type": "code",
   "execution_count": 11,
   "metadata": {},
   "outputs": [
    {
     "name": "stdout",
     "output_type": "stream",
     "text": [
      "appendAll test: --> 2 -> 3 -> 4 -> 5 | , 4\n",
      "appendAll test: --> 2 -> 3 -> 4 -> 5 -> 42 -> 24 | , 6\n",
      "nullify test: --> [] | , 0\n"
     ]
    },
    {
     "ename": "AttributeError",
     "evalue": "'LinkedList' object has no attribute 'clone'",
     "output_type": "error",
     "traceback": [
      "\u001b[0;31m---------------------------------------------------------------------------\u001b[0m",
      "\u001b[0;31mAttributeError\u001b[0m                            Traceback (most recent call last)",
      "Cell \u001b[0;32mIn [11], line 13\u001b[0m\n\u001b[1;32m     10\u001b[0m \u001b[39mprint\u001b[39m(\u001b[39m\"\u001b[39m\u001b[39mnullify test:\u001b[39m\u001b[39m\"\u001b[39m,ls,\u001b[39m\"\u001b[39m\u001b[39m,\u001b[39m\u001b[39m\"\u001b[39m,ls\u001b[39m.\u001b[39mlength)\n\u001b[1;32m     12\u001b[0m ls \u001b[39m=\u001b[39m LinkedList()\n\u001b[0;32m---> 13\u001b[0m ls2 \u001b[39m=\u001b[39m ls\u001b[39m.\u001b[39mclone()\n\u001b[1;32m     14\u001b[0m \u001b[39mprint\u001b[39m(\u001b[39m\"\u001b[39m\u001b[39mclone test:\u001b[39m\u001b[39m\"\u001b[39m,ls,\u001b[39m\"\u001b[39m\u001b[39m,\u001b[39m\u001b[39m\"\u001b[39m,ls\u001b[39m.\u001b[39mlength,\u001b[39m\"\u001b[39m\u001b[39m,\u001b[39m\u001b[39m\"\u001b[39m,ls2,\u001b[39m\"\u001b[39m\u001b[39m,\u001b[39m\u001b[39m\"\u001b[39m,ls2\u001b[39m.\u001b[39mlength)      \n\u001b[1;32m     15\u001b[0m ls\u001b[39m.\u001b[39mappendAll([\u001b[39m1\u001b[39m,\u001b[39m2\u001b[39m,\u001b[39m3\u001b[39m,\u001b[39m4\u001b[39m])\n",
      "\u001b[0;31mAttributeError\u001b[0m: 'LinkedList' object has no attribute 'clone'"
     ]
    }
   ],
   "source": [
    "# some minimal testing code (you might want to do more tests!)\n",
    "\n",
    "ls = LinkedList()\n",
    "ls.appendAll([2,3,4,5])\n",
    "print(\"appendAll test:\",ls,\",\",ls.length)\n",
    "ls.appendAll([42,24])\n",
    "print(\"appendAll test:\",ls,\",\",ls.length)\n",
    "\n",
    "ls.nullify()\n",
    "print(\"nullify test:\",ls,\",\",ls.length)\n",
    "\n",
    "ls = LinkedList()\n",
    "ls2 = ls.clone()\n",
    "print(\"clone test:\",ls,\",\",ls.length,\",\",ls2,\",\",ls2.length)      \n",
    "ls.appendAll([1,2,3,4])\n",
    "print(\"clone test:\",ls,\",\",ls.length,\",\",ls2,\",\",ls2.length)      \n",
    "ls2 = ls.clone()\n",
    "print(\"clone test:\",ls,\",\",ls.length,\",\",ls2,\",\",ls2.length)      \n",
    "\n",
    "ls = LinkedList()\n",
    "ls.appendAll([2,3,4,5])\n",
    "ls2 = LinkedList()\n",
    "ls2.append(24)\n",
    "ls.merge(ls2)\n",
    "print(\"merge test:\",ls,\",\",ls.length,\",\",ls2,\",\",ls2.length)      \n",
    "ls2.appendAll([42,17])\n",
    "ls.merge(ls2)\n",
    "print(\"merge test:\",ls,\",\",ls.length,\",\",ls2,\",\",ls2.length)      \n",
    "ls.merge(ls2)\n",
    "print(\"merge test:\",ls,\",\",ls.length,\",\",ls2,\",\",ls2.length)      \n",
    "ls2.merge(ls)\n",
    "print(\"merge test:\",ls,\",\",ls.length,\",\",ls2,\",\",ls2.length)      "
   ]
  },
  {
   "cell_type": "markdown",
   "metadata": {},
   "source": [
    "## Question 3\n",
    "\n",
    "__Using recursion__, write a function\n",
    "\n",
    "    def insertRec(ptr, i, d)\n",
    "    \n",
    "that takes a pointer `ptr` (i.e. a `Node` of a `LinkedList`), an integer `i` and a value `d`, and inserts `d` in the i-th position after `ptr`. The function should return a pointer to the updated list segment after the addition. \n",
    "\n",
    "For example, if the list segment starting at `ptr` is `1 -> 2 -> 3 ->|` then `insertRec(ptr, 0, 5)` should return `5 -> 1 -> 2 -> 3 ->|`, whereas `insertRec(ptr, 3, 6)` should return `1 -> 2 -> 3 -> 6 ->|`.\n",
    "\n",
    "**Hint.** Your function could look like:\n",
    "\n",
    "    def insertRec(ptr,i,d):\n",
    "        if i == 0: # base case\n",
    "            return Node(d,ptr) \n",
    "        # now deal with recursive case\n",
    "        ...\n",
    "Using `insertRec` add in `LinkedList` a function \n",
    "\n",
    "    def insert2(self,i,d)\n",
    "    \n",
    "that has the same specification as `insert` but works recursively."
   ]
  },
  {
   "cell_type": "code",
   "execution_count": 8,
   "metadata": {},
   "outputs": [
    {
     "ename": "AttributeError",
     "evalue": "'Node' object has no attribute 'insert2'",
     "output_type": "error",
     "traceback": [
      "\u001b[0;31m---------------------------------------------------------------------------\u001b[0m",
      "\u001b[0;31mAttributeError\u001b[0m                            Traceback (most recent call last)",
      "Cell \u001b[0;32mIn [8], line 1\u001b[0m\n\u001b[0;32m----> 1\u001b[0m ls2\u001b[39m.\u001b[39minsert2(\u001b[39m0\u001b[39m,\u001b[39m1\u001b[39m)\n\u001b[1;32m      2\u001b[0m \u001b[39mprint\u001b[39m(\u001b[39m\"\u001b[39m\u001b[39minsert2 test:\u001b[39m\u001b[39m\"\u001b[39m,ls2,\u001b[39m\"\u001b[39m\u001b[39m,\u001b[39m\u001b[39m\"\u001b[39m,ls2\u001b[39m.\u001b[39mlength)\n\u001b[1;32m      3\u001b[0m ls2\u001b[39m.\u001b[39minsert2(ls2\u001b[39m.\u001b[39mlength\u001b[39m-\u001b[39m\u001b[39m1\u001b[39m,\u001b[39m43\u001b[39m)\n",
      "\u001b[0;31mAttributeError\u001b[0m: 'Node' object has no attribute 'insert2'"
     ]
    }
   ],
   "source": [
    "ls2.insert2(0,1)\n",
    "print(\"insert2 test:\",ls2,\",\",ls2.length)\n",
    "ls2.insert2(ls2.length-1,43)\n",
    "print(\"insert2 test:\",ls2,\",\",ls2.length)\n",
    "ls2.insert2(ls2.length,21)\n",
    "print(\"insert2 test:\",ls2,\",\",ls2.length)"
   ]
  },
  {
   "cell_type": "markdown",
   "metadata": {},
   "source": [
    "## Question 4\n",
    "\n",
    "Add in `LinkedList` a function \n",
    "\n",
    "    def sort(self)\n",
    "    \n",
    "that sorts the linked list using quicksort.\n",
    "\n",
    "__Hint:__ you can adapt the algorithm we saw in Lecture 3. Starting from the current list (`self`),\n",
    "let `pivot` be the data at the head of the list, and create two new linked lists: one called \n",
    "`smaller` (which contains all elements whose data is smaller than pivot), and one `other` \n",
    "(containing all remaining elements, apart from `pivot`). Then, call `smaller.sort()` and \n",
    "`other.sort()`, set the current list to `smaller`, then append `pivot` and merge with `other`."
   ]
  },
  {
   "cell_type": "code",
   "execution_count": null,
   "metadata": {},
   "outputs": [],
   "source": [
    "ls = LinkedList()\n",
    "ls.appendAll([30, 25, 67, 99, 8, 16, 28, 63, 12, 20])\n",
    "ls.sort()\n",
    "print(\"sort test:\",ls,\",\",ls.length)"
   ]
  },
  {
   "cell_type": "markdown",
   "metadata": {},
   "source": [
    "## Question 5\n",
    "\n",
    "Add in `LinkedList` a function \n",
    "\n",
    "    def isCyclic(self)\n",
    "    \n",
    "that checks if the linked list contains a cycle, and returns `True` if it does (otherwise, `False`).\n",
    "\n",
    "For example, if `ls` is the linked list `[2,3,4,5]`:\n",
    "\n",
    "    print(ls.isCyclic())            # prints False\n",
    "    ls.head.next.next = ls.head     # makes ls cyclic: 2 -> 3 -> (head)\n",
    "    print(ls.isCyclic())            # prints True"
   ]
  },
  {
   "cell_type": "code",
   "execution_count": null,
   "metadata": {},
   "outputs": [],
   "source": [
    "ls = LinkedList()\n",
    "ls.appendAll([2,3,4,5])\n",
    "print(\"ls is cyclic:\",ls.isCyclic())\n",
    "ls.head.next.next = ls.head\n",
    "print(\"ls is cyclic:\",ls.isCyclic())\n",
    "\n",
    "# the following example adds an element in the tail of \n",
    "# the list without updating the list length\n",
    "ls = LinkedList()\n",
    "ls.appendAll([2,3,4,5])\n",
    "ptr = ls.head\n",
    "while ptr.next != None:\n",
    "    ptr = ptr.next\n",
    "ptr.next = Node(42,None)\n",
    "print(\"ls is cyclic:\",ls.isCyclic())"
   ]
  },
  {
   "cell_type": "markdown",
   "metadata": {},
   "source": [
    "## Question 6\n",
    "\n",
    "You are asked to write a class `DLinkedList` which implements doubly linked lists. A doubly\n",
    "linked list is one in which each node points both to the next and to the previous node in the\n",
    "list (see Lecture 5, slide 22).\n",
    "\n",
    "Your implementation should keep track of both the head and the tail (i.e. the last node) of \n",
    "the doubly linked list. Here is the constructor you can use:\n",
    "\n",
    "    class DLinkedList:\n",
    "        def __init__(self):\n",
    "            self.head = None   # this is of type DNode\n",
    "            self.tail = None   # this is of type DNode\n",
    "            self.length = 0\n",
    "            \n",
    "The nodes of the linked list are taken from the class `DNode2` which we define as:\n",
    "\n",
    "    class DNode:\n",
    "        def __init__(self, d, n, p):\n",
    "            self.data = d\n",
    "            self.next = n\n",
    "            self.prev = p\n",
    "            \n",
    "where each node has a piece of data and two pointers: one to the next element in the list, \n",
    "and one to the previous one. You are asked to implement the following functions:\n",
    "\n",
    "- `search(self,d)` for searching the value `d` in the doubly linked list\n",
    "- `append(self,d)` for appending the value `d` at the tail of the doubly linked list\n",
    "- `insert(self,i,d)` for inserting the value `d` in position `i` of the doubly linked list\n",
    "- `remove(self,i)` for removing and returning the element in position `i` of the doubly linked list\n",
    "\n",
    "To help you debug your code, you can use the following function to print a linked list \n",
    "starting from its head, and starting from its tail:\n",
    "\n",
    "    def __str__(self):\n",
    "        st = \"\"\n",
    "        ptr = self.head\n",
    "        while ptr != None:\n",
    "            st = st + str(ptr.data)\n",
    "            st = st+\" -> \"\n",
    "            ptr = ptr.next\n",
    "        st += \"None, and reversed: \"\n",
    "        ptr = self.tail\n",
    "        while ptr != None:\n",
    "            st = st + str(ptr.data)\n",
    "            st = st+\" -> \"\n",
    "            ptr = ptr.prev\n",
    "        return st+\"None\""
   ]
  },
  {
   "cell_type": "code",
   "execution_count": null,
   "metadata": {},
   "outputs": [],
   "source": [
    "ls = DLinkedList()\n",
    "print(\"1. creation test:\",ls,ls.length)\n",
    "for x in [0,1,3]: ls.append(x)\n",
    "print(\"2. append test:\",ls,ls.length)\n",
    "ls.insert(0,-2); ls.insert(1,-1)\n",
    "print(\"3. insert test:\",ls,ls.length)\n",
    "ls.insert(4,2)\n",
    "print(\"4. insert test:\",ls,ls.length)\n",
    "ls.insert(6,4)\n",
    "print(\"4. insert test:\",ls,ls.length)\n",
    "print(\"5. search test:\",ls.search(1),ls.search(2))\n",
    "ls.remove(0)\n",
    "print(\"6. remove test:\",ls,ls.length,ls.tail.data)\n",
    "ls.remove(5)\n",
    "print(\"7. remove test:\",ls,ls.length,ls.tail.data)\n",
    "print(\"8. search test:\",ls.search(1),ls.search(2),ls.search(3),ls.search(4))\n",
    "ls.insert(4,1)\n",
    "print(\"9. insert test:\",ls,ls.length,ls.tail.data)\n",
    "print(\"10. search test:\",ls.search(1),ls.search(2),ls.search(3),ls.search(4))\n",
    "for i in range(ls.length-1,-1,-1): ls.remove(i)\n",
    "print(\"11. remove test:\",ls,ls.length,ls.tail)"
   ]
  }
 ],
 "metadata": {
  "kernelspec": {
   "display_name": "Python 3.8.5 64-bit",
   "language": "python",
   "name": "python3"
  },
  "language_info": {
   "codemirror_mode": {
    "name": "ipython",
    "version": 3
   },
   "file_extension": ".py",
   "mimetype": "text/x-python",
   "name": "python",
   "nbconvert_exporter": "python",
   "pygments_lexer": "ipython3",
   "version": "3.8.5"
  },
  "vscode": {
   "interpreter": {
    "hash": "aee8b7b246df8f9039afb4144a1f6fd8d2ca17a180786b69acc140d282b71a49"
   }
  }
 },
 "nbformat": 4,
 "nbformat_minor": 4
}
