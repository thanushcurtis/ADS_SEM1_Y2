{
 "cells": [
  {
   "cell_type": "markdown",
   "metadata": {},
   "source": [
    "# Lecture 2: Sorting, Running Time and Complexity"
   ]
  },
  {
   "cell_type": "code",
   "execution_count": 165,
   "metadata": {},
   "outputs": [
    {
     "name": "stdout",
     "output_type": "stream",
     "text": [
      "[1, 2, 3, 4]\n",
      "[1, 1, 1, 1, 1, 1, 3, 3, 3, 4, 4, 5, 5, 5, 5, 5, 6, 7, 11, 12, 21, 41, 65, 656]\n",
      "[]\n",
      "[1, 2, 3]\n"
     ]
    }
   ],
   "source": [
    "def insertionSort(A):\n",
    "    for i in range(1,len(A)):\n",
    "        insert(A[i],A,i)\n",
    "\n",
    "def insert(k, A, hi):\n",
    "    for i in range (hi,0,-1):\n",
    "        if k >= A[i-1]:\n",
    "            A[i] = k\n",
    "            return\n",
    "        A[i] = A[i-1]\n",
    "    A[0] = k\n",
    "\n",
    "A = [2,1,4,3]    \n",
    "insertionSort(A)\n",
    "print(A)\n",
    "A = [3,21,65,1,3,1,3,4,5,11,5,656,5,1,1,5,1,41,1,4,5,6,7,12]\n",
    "insertionSort(A)\n",
    "print(A)\n",
    "A = []\n",
    "insertionSort(A)\n",
    "print(A)\n",
    "A = [1,2,3]\n",
    "insertionSort(A)\n",
    "print(A)"
   ]
  },
  {
   "cell_type": "code",
   "execution_count": 82,
   "metadata": {},
   "outputs": [
    {
     "name": "stdout",
     "output_type": "stream",
     "text": [
      "[1, 2, 3, 4]\n",
      "[1, 1, 1, 1, 1, 1, 3, 3, 3, 4, 4, 5, 5, 5, 5, 5, 6, 7, 11, 12, 21, 41, 65, 656]\n",
      "[]\n",
      "[1, 2, 3]\n"
     ]
    }
   ],
   "source": [
    "def selectionSort(A):\n",
    "    for i in range(len(A)):\n",
    "        imin = findMin(i,A)\n",
    "        swap(i,imin,A)\n",
    "\n",
    "def findMin(i, A):\n",
    "    imin = i\n",
    "    for j in range(i+1,len(A)):\n",
    "        if A[j] < A[imin]: \n",
    "            imin = j\n",
    "    return imin\n",
    "\n",
    "def swap(i, j, A):\n",
    "    tmp = A[i]\n",
    "    A[i] = A[j]\n",
    "    A[j] = tmp\n",
    "    \n",
    "A = [2,1,4,3]    \n",
    "selectionSort(A)\n",
    "print(A)\n",
    "A = [3,21,65,1,3,1,3,4,5,11,5,656,5,1,1,5,1,41,1,4,5,6,7,12]\n",
    "selectionSort(A)\n",
    "print(A)\n",
    "A = []\n",
    "selectionSort(A)\n",
    "print(A)\n",
    "A = [1,2,3]\n",
    "selectionSort(A)\n",
    "print(A)"
   ]
  },
  {
   "cell_type": "code",
   "execution_count": 6,
   "metadata": {},
   "outputs": [
    {
     "name": "stdout",
     "output_type": "stream",
     "text": [
      "4\n",
      "4\n",
      "6\n",
      "0\n",
      "5\n",
      "0\n",
      "-1\n",
      "-1\n"
     ]
    }
   ],
   "source": [
    "def sortedSearch(A, n):\n",
    "    for i in range(len(A)):\n",
    "        if A[i] == n:\n",
    "            return i\n",
    "        if A[i] > n:\n",
    "            return -1\n",
    "    return -1\n",
    "\n",
    "print(sortedSearch([1,2,3,4,5,6],5))\n",
    "print(sortedSearch([1,2,3,4,5,6,7],5))\n",
    "print(sortedSearch([1,2,3,4,5,6,7],7))\n",
    "print(sortedSearch([1,2,3,4,5,6,7],1))\n",
    "print(sortedSearch([1,2,3,4,5,6],6))\n",
    "print(sortedSearch([1,2,3,4,5,6],1))\n",
    "print(sortedSearch([1,2,3,4,5,6],0))\n",
    "print(sortedSearch([1,2,3,4,5,6,7],0))  "
   ]
  },
  {
   "cell_type": "code",
   "execution_count": 48,
   "metadata": {},
   "outputs": [
    {
     "name": "stdout",
     "output_type": "stream",
     "text": [
      "-1\n",
      "4\n",
      "4\n",
      "6\n",
      "0\n",
      "5\n",
      "0\n",
      "-1\n",
      "-1\n"
     ]
    }
   ],
   "source": [
    "def sortedSearch2(A, n):\n",
    "    for i in range(len(A)):\n",
    "        if A[i] >= n:\n",
    "            break\n",
    "    if A != [] and A[i] == n:\n",
    "        return i\n",
    "    return -1\n",
    "\n",
    "print(sortedSearch2([],0))\n",
    "print(sortedSearch2([1,2,3,4,5,6],5))\n",
    "print(sortedSearch2([1,2,3,4,5,6,7],5))\n",
    "print(sortedSearch2([1,2,3,4,5,6,7],7))\n",
    "print(sortedSearch2([1,2,3,4,5,6,7],1))\n",
    "print(sortedSearch2([1,2,3,4,5,6],6))\n",
    "print(sortedSearch2([1,2,3,4,5,6],1))\n",
    "print(sortedSearch2([1,2,3,4,5,6],0))\n",
    "print(sortedSearch2([1,2,3,4,5,6,7],0))  "
   ]
  },
  {
   "cell_type": "code",
   "execution_count": 1,
   "metadata": {},
   "outputs": [
    {
     "name": "stdout",
     "output_type": "stream",
     "text": [
      "4\n",
      "4\n",
      "6\n",
      "0\n",
      "5\n",
      "0\n",
      "-1\n",
      "-1\n"
     ]
    }
   ],
   "source": [
    "def binSearch(A, n):\n",
    "    low = 0\n",
    "    high = len(A)-1\n",
    "    while (low <= high):\n",
    "        mid = (low+high)//2\n",
    "        if A[mid] == n:\n",
    "            return mid\n",
    "        else: \n",
    "            if A[mid] < n:\n",
    "                low = mid+1\n",
    "            else:\n",
    "                high = mid-1\n",
    "    return -1\n",
    "\n",
    "print(binSearch([1,2,3,4,5,6],5))\n",
    "print(binSearch([1,2,3,4,5,6,7],5))\n",
    "print(binSearch([1,2,3,4,5,6,7],7))\n",
    "print(binSearch([1,2,3,4,5,6,7],1))\n",
    "print(binSearch([1,2,3,4,5,6],6))\n",
    "print(binSearch([1,2,3,4,5,6],1))\n",
    "print(binSearch([1,2,3,4,5,6],0))\n",
    "print(binSearch([1,2,3,4,5,6,7],0))"
   ]
  }
 ],
 "metadata": {
  "kernelspec": {
   "display_name": "Python 3",
   "language": "python",
   "name": "python3"
  },
  "language_info": {
   "codemirror_mode": {
    "name": "ipython",
    "version": 3
   },
   "file_extension": ".py",
   "mimetype": "text/x-python",
   "name": "python",
   "nbconvert_exporter": "python",
   "pygments_lexer": "ipython3",
   "version": "3.6.6"
  }
 },
 "nbformat": 4,
 "nbformat_minor": 2
}
