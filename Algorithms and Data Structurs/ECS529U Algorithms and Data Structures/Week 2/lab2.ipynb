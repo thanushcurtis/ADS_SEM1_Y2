{
 "cells": [
  {
   "cell_type": "markdown",
   "metadata": {},
   "source": [
    "# Lab 2 notebook\n",
    "\n",
    "We have already prepared some tests for you for Question 1.\n",
    "\n",
    "You can answer the rest of the questions by writing code in new cells at the end of this notebook."
   ]
  },
  {
   "cell_type": "code",
   "execution_count": 6,
   "metadata": {},
   "outputs": [
    {
     "name": "stdout",
     "output_type": "stream",
     "text": [
      "[5, 12, 31, 7, 25]\n",
      "[-5, 12, -31, 7, 25]\n",
      "[-5, 12, -31, 7, 25]\n",
      "[]\n",
      "[]\n"
     ]
    }
   ],
   "source": [
    "def multAll(A, k):\n",
    "    # you need to implement this function\n",
    "\n",
    "# test 0\n",
    "A = [5,12,31,7,25]\n",
    "multAll(A, 10)\n",
    "print(A)  # should print [50,120,310,70,250]\n",
    "\n",
    "# test 1\n",
    "A = [-5,12,-31,7,25]\n",
    "multAll(A, 10)\n",
    "print(A)  # should print [-50,120,-310,70,250]\n",
    "\n",
    "# test 2\n",
    "A = [-5,12,-31,7,25]\n",
    "multAll(A, -1)\n",
    "print(A)  # should print [5,-12,31,-7,-25\n",
    "\n",
    "# test 3\n",
    "A = []\n",
    "multAll(A, 10)\n",
    "print(A)  # should print []\n",
    "\n",
    "# test 4\n",
    "A = []\n",
    "multAll(A, -1)\n",
    "print(A)  # should print []"
   ]
  },
  {
   "cell_type": "code",
   "execution_count": 10,
   "metadata": {},
   "outputs": [
    {
     "name": "stdout",
     "output_type": "stream",
     "text": [
      "[]\n",
      "[5, 12, 31, 7, 25]\n",
      "[]\n",
      "[-5, 12, -31, 7, 25]\n",
      "[]\n",
      "[-5, 12, -31, 7, 25]\n",
      "[]\n",
      "[]\n",
      "[]\n",
      "[]\n"
     ]
    }
   ],
   "source": [
    "def multAll2(A, k):\n",
    "    # you need to implement this function\n",
    "    \n",
    "# test 0\n",
    "A = [5,12,31,7,25]\n",
    "print(multAll2(A, 10))  # should print [50,120,310,70,250]\n",
    "print(A)  # should print [5,12,31,7,25]\n",
    "\n",
    "# test 1\n",
    "A = [-5,12,-31,7,25]\n",
    "print(multAll2(A, 10))  # should print [-50,120,-310,70,250]\n",
    "print(A)  # should print [-5,12,-31,7,25]\n",
    "\n",
    "# test 2\n",
    "A = [-5,12,-31,7,25]\n",
    "print(multAll2(A, -1))  # should print [5,-12,31,-7,-25]\n",
    "print(A)  # should print [-5,12,-31,7,25]\n",
    "\n",
    "# test 3\n",
    "A = []\n",
    "print(multAll2(A, 10))  # should print []\n",
    "print(A)  # should print []\n",
    "\n",
    "# test 4\n",
    "A = []\n",
    "print(multAll2(A, -1))  # should print []\n",
    "print(A)  # should print []"
   ]
  }
 ],
 "metadata": {
  "kernelspec": {
   "display_name": "Python 3",
   "language": "python",
   "name": "python3"
  },
  "language_info": {
   "codemirror_mode": {
    "name": "ipython",
    "version": 3
   },
   "file_extension": ".py",
   "mimetype": "text/x-python",
   "name": "python",
   "nbconvert_exporter": "python",
   "pygments_lexer": "ipython3",
   "version": "3.6.6"
  }
 },
 "nbformat": 4,
 "nbformat_minor": 2
}
