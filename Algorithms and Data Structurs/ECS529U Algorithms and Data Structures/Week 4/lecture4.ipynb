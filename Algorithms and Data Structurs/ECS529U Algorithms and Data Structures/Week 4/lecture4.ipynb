{
 "cells": [
  {
   "cell_type": "markdown",
   "metadata": {},
   "source": [
    "# Lecture 4: Greedy Algorithms"
   ]
  },
  {
   "cell_type": "code",
   "execution_count": 1,
   "metadata": {},
   "outputs": [
    {
     "name": "stdout",
     "output_type": "stream",
     "text": [
      "0\n",
      "1\n",
      "2\n",
      "3\n",
      "7\n",
      "9\n",
      "56\n"
     ]
    }
   ],
   "source": [
    "# Splitting into coins greedily\n",
    "\n",
    "coin = [200, 100, 50, 20, 10, 5, 2, 1]\n",
    "\n",
    "def coinSplitGD(m):\n",
    "    if m == 0:\n",
    "        return 0\n",
    "    for i in range(len(coin)):\n",
    "        if coin[i] <= m:\n",
    "            return 1 + coinSplitGD(m-coin[i])\n",
    "\n",
    "\n",
    "print(coinSplitGD(0))\n",
    "print(coinSplitGD(5))\n",
    "print(coinSplitGD(7))\n",
    "print(coinSplitGD(9))\n",
    "print(coinSplitGD(199))\n",
    "print(coinSplitGD(599))\n",
    "print(coinSplitGD(10099))"
   ]
  },
  {
   "cell_type": "code",
   "execution_count": 3,
   "metadata": {},
   "outputs": [
    {
     "name": "stdout",
     "output_type": "stream",
     "text": [
      "0\n",
      "2\n",
      "1\n",
      "2\n",
      "3\n",
      "7\n",
      "9\n"
     ]
    }
   ],
   "source": [
    "# Splitting into coins recursively (inefficient)\n",
    "# depends on the fact that last coin is 1\n",
    "\n",
    "coin = [200, 100, 50, 20, 10, 5, 2, 1]\n",
    "\n",
    "def coinSplit(m):\n",
    "    return coinSplitRec(m,0)\n",
    "\n",
    "def coinSplitRec(m, startCoin):\n",
    "    if m == 0:\n",
    "        return 0\n",
    "    while coin[startCoin] > m:\n",
    "        startCoin += 1\n",
    "    if startCoin == len(coin)-1:\n",
    "        return m\n",
    "    withIt = 1 + coinSplitRec(m-coin[startCoin],startCoin)\n",
    "    withoutIt = coinSplitRec(m,startCoin+1)\n",
    "    return min(withIt,withoutIt)\n",
    "\n",
    "\n",
    "print(coinSplit(0))\n",
    "print(coinSplit(3))\n",
    "print(coinSplit(5))\n",
    "print(coinSplit(7))\n",
    "print(coinSplit(9))\n",
    "print(coinSplit(199))\n",
    "print(coinSplit(599))\n",
    "# print(coinSplit(19999)) # runs forever"
   ]
  },
  {
   "cell_type": "code",
   "execution_count": 74,
   "metadata": {},
   "outputs": [
    {
     "name": "stdout",
     "output_type": "stream",
     "text": [
      "4\n",
      "4\n"
     ]
    }
   ],
   "source": [
    "class Event:\n",
    "    def __init__(self, st, et):\n",
    "        self.startTime = st\n",
    "        self.endTime = et\n",
    "\n",
    "E = [Event(8, 14), Event(9, 12), Event(10, 21), Event(11, 13),  Event(11, 16), Event(13, 15), Event(13, 17), Event(14, 18), Event(16, 19), Event(16, 20), Event(20, 22)]      \n",
    "        \n",
    "# assumes E is ordered wrt Event startTime        \n",
    "def schedule(E):\n",
    "    return scheduleRec(E,0,0)\n",
    "\n",
    "def scheduleRec(E, eventPos, startTime):\n",
    "    while eventPos < len(E) and E[eventPos].startTime < startTime:\n",
    "        eventPos += 1\n",
    "    if eventPos == len(E):\n",
    "        return 0\n",
    "    withoutIt = scheduleRec(E, eventPos+1, startTime)\n",
    "    withIt = 1 + scheduleRec(E, eventPos+1, E[eventPos].endTime)\n",
    "    if withIt < withoutIt:\n",
    "        return withoutIt\n",
    "    return withIt\n",
    "\n",
    "print(schedule(E))\n",
    "\n",
    "\n",
    "def scheduleGD(E):\n",
    "    return scheduleRecGD(E,0,0)\n",
    "\n",
    "def scheduleRecGD(E, eventPos, startTime):\n",
    "    while eventPos < len(E) and E[eventPos].startTime < startTime:\n",
    "        eventPos += 1\n",
    "    if eventPos == len(E):\n",
    "        return 0\n",
    "    minEndPos = eventPos\n",
    "    for i in range(eventPos+1, len(E)):\n",
    "        if E[i].endTime < E[minEndPos].endTime:\n",
    "            minEndPos = i\n",
    "    return 1 + scheduleRecGD(E, minEndPos+1, E[minEndPos].endTime )\n",
    "\n",
    "print(scheduleGD(E))"
   ]
  },
  {
   "cell_type": "code",
   "execution_count": 137,
   "metadata": {},
   "outputs": [
    {
     "name": "stdout",
     "output_type": "stream",
     "text": [
      "0.05431938171386719\n",
      "0.00521540641784668\n",
      "0.005068063735961914\n",
      "0.003678560256958008\n"
     ]
    }
   ],
   "source": [
    "# Two faster versions of greedy scheduling\n",
    "\n",
    "# define comparison of events wrt endTime\n",
    "# needed for the second solution below\n",
    "class Event:\n",
    "    def __init__(self, st, et):\n",
    "        self.startTime = st\n",
    "        self.endTime = et\n",
    "\n",
    "    def __lt__(self,other):\n",
    "        return self.endTime<other.endTime\n",
    "\n",
    "E = [Event(8, 14), Event(9, 12), Event(10, 21), Event(11, 13),  Event(11, 16), Event(13, 15), Event(13, 17), Event(14, 18), Event(16, 19), Event(16, 20), Event(20, 22)]      \n",
    "    \n",
    "# This one uses iteration instead of recursion\n",
    "def scheduleGD2(E):\n",
    "    startTime = 0\n",
    "    count = 0\n",
    "    eventPos = 0\n",
    "    while eventPos < len(E):\n",
    "        if E[eventPos].startTime < startTime:\n",
    "            eventPos += 1\n",
    "        else:\n",
    "            minEndPos = eventPos\n",
    "            for i in range(eventPos+1,len(E)):\n",
    "                if E[i].endTime < E[minEndPos].endTime:\n",
    "                    minEndPos = i\n",
    "            count += 1\n",
    "            eventPos = minEndPos+1\n",
    "            startTime = E[minEndPos].endTime\n",
    "    return count\n",
    "\n",
    "# This one first sorts E wrt Event endTime \n",
    "def scheduleGD3(E):\n",
    "    E.sort() # use of Python's sort -- not allowed!\n",
    "    scheduled = 0\n",
    "    startTime = 0\n",
    "    for i in range(len(E)):\n",
    "        if E[i].startTime >= startTime:\n",
    "            scheduled += 1\n",
    "            startTime = E[i].endTime\n",
    "    return scheduled\n",
    "\n",
    "import time\n",
    "\n",
    "# a testing routine for: \n",
    "# - scheduling array of events E\n",
    "# - using scheduling function f\n",
    "# - performing the scheduling reps-many times\n",
    "def test(E, f, reps):\n",
    "    ts = 0\n",
    "    for i in range(reps):\n",
    "        t = time.time()\n",
    "        f(E)\n",
    "        t = time.time()-t\n",
    "        ts += t\n",
    "    return ts\n",
    "\n",
    "reps = 1000\n",
    "print(test(E,schedule,reps))\n",
    "print(test(E,scheduleGD,reps))\n",
    "print(test(E,scheduleGD2,reps))\n",
    "print(test(E,scheduleGD3,reps))"
   ]
  }
 ],
 "metadata": {
  "kernelspec": {
   "display_name": "Python 3",
   "language": "python",
   "name": "python3"
  },
  "language_info": {
   "codemirror_mode": {
    "name": "ipython",
    "version": 3
   },
   "file_extension": ".py",
   "mimetype": "text/x-python",
   "name": "python",
   "nbconvert_exporter": "python",
   "pygments_lexer": "ipython3",
   "version": "3.6.6"
  }
 },
 "nbformat": 4,
 "nbformat_minor": 2
}
