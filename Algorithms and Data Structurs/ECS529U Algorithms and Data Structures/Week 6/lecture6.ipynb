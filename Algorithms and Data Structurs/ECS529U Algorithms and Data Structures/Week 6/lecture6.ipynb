{
 "cells": [
  {
   "cell_type": "markdown",
   "metadata": {},
   "source": [
    "# Lecture 6: Arrays and Lists"
   ]
  },
  {
   "cell_type": "code",
   "execution_count": 15,
   "metadata": {},
   "outputs": [
    {
     "name": "stdout",
     "output_type": "stream",
     "text": [
      "initial list: [2, 3, 4, 5]\n",
      "final list: [2, 24, 3, 5, 42]\n"
     ]
    }
   ],
   "source": [
    "ls = []\n",
    "for i in range(2,6):\n",
    "    ls.append(i)\n",
    "print(\"initial list: \" + str(ls))\n",
    "ls.append(42)\n",
    "ls.pop(2)\n",
    "ls.insert(1,24)\n",
    "print(\"final list: \" + str(ls))"
   ]
  },
  {
   "cell_type": "code",
   "execution_count": 17,
   "metadata": {},
   "outputs": [
    {
     "name": "stdout",
     "output_type": "stream",
     "text": [
      "[0, 1, 2, 3, 4, 5, 6, 7, 8, 0] 9\n",
      "[0, 1, 2, 3, 4, 5, 6, 7, 8, 9, 0, 0, 0, 0, 0, 0, 0, 0, 0, 0] 10\n",
      "[0, 1, 24, 3, 4, 5, 6, 7, 8, 9, 0, 0, 0, 0, 0, 0, 0, 0, 0, 0] 10\n",
      "0 10\n",
      "[0, 1, 24, 3, 42, 4, 5, 6, 7, 8, 9, 0, 0, 0, 0, 0, 0, 0, 0, 0] 11\n",
      "42 [0, 1, 24, 3, 4, 5, 6, 7, 8, 9, 9, 0, 0, 0, 0, 0, 0, 0, 0, 0] 10\n",
      "[0, 1, 24, 3, 4, 5, 6, 7, 8, 9, 9, 0, 0, 0, 0, 0, 0, 0, 0, 0] 10\n",
      "[0, 1, 24, 3, 4, 5, 6, 7, 8, 9]\n"
     ]
    }
   ],
   "source": [
    "class ArrayList:\n",
    "    def __init__(self):\n",
    "        self.inArray = [0 for i in range(10)]\n",
    "        self.count = 0\n",
    "        \n",
    "    def get(self, i):\n",
    "        return self.inArray[i]\n",
    "\n",
    "    def set(self, i, e):\n",
    "        self.inArray[i] = e\n",
    "\n",
    "    def length(self):\n",
    "        return self.count\n",
    "\n",
    "    def append(self, e):\n",
    "        self.inArray[self.count] = e\n",
    "        self.count += 1\n",
    "        if len(self.inArray) == self.count:\n",
    "            self._resizeUp()     # resize array if reached capacity\n",
    "\n",
    "    def insert(self, i, e):\n",
    "        for j in range(self.count,i,-1):\n",
    "            self.inArray[j] = self.inArray[j-1]\n",
    "        self.inArray[i] = e\n",
    "        self.count += 1\n",
    "        if len(self.inArray) == self.count:\n",
    "            self._resizeUp()     # resize array if reached capacity\n",
    "\n",
    "    def remove(self, i):\n",
    "        self.count -= 1\n",
    "        val = self.inArray[i]\n",
    "        for j in range(i,self.count):\n",
    "            self.inArray[j] = self.inArray[j+1]\n",
    "        return val\n",
    "    \n",
    "    def __str__(self):\n",
    "        return str(self.inArray[:self.count])\n",
    "\n",
    "    def _resizeUp(self):\n",
    "        newArray = [0 for i in range(2*len(self.inArray))]\n",
    "        for j in range(len(self.inArray)):\n",
    "            newArray[j] = self.inArray[j]\n",
    "        self.inArray = newArray\n",
    "\n",
    "\n",
    "# some testing\n",
    "a = ArrayList()\n",
    "for i in range(9): a.append(i)\n",
    "print(a.inArray, a.count)\n",
    "a.append(9)\n",
    "print(a.inArray, a.count)\n",
    "a.set(2,24)\n",
    "print(a.inArray, a.count)\n",
    "print(a.get(0), a.length())\n",
    "a.insert(4,42)\n",
    "print(a.inArray, a.count)\n",
    "print(a.remove(4), a.inArray, a.count)\n",
    "print(a.inArray, a.count)\n",
    "print(a)"
   ]
  }
 ],
 "metadata": {
  "kernelspec": {
   "display_name": "Python 3",
   "language": "python",
   "name": "python3"
  },
  "language_info": {
   "codemirror_mode": {
    "name": "ipython",
    "version": 3
   },
   "file_extension": ".py",
   "mimetype": "text/x-python",
   "name": "python",
   "nbconvert_exporter": "python",
   "pygments_lexer": "ipython3",
   "version": "3.6.6"
  }
 },
 "nbformat": 4,
 "nbformat_minor": 2
}
