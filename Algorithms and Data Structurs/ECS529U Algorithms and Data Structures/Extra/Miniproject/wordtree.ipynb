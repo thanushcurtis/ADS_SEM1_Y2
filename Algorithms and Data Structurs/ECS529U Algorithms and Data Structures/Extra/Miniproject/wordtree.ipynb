{
 "cells": [
  {
   "cell_type": "code",
   "execution_count": 4,
   "metadata": {},
   "outputs": [],
   "source": [
    "class WTNode:\n",
    "    def __init__(self,d,l,r,n):\n",
    "        self.data = d\n",
    "        self.left = l\n",
    "        self.right = r\n",
    "        self.next = n\n",
    "        self.mult = 0\n",
    "          \n",
    "    # prints the node and all its children in a string\n",
    "    def __str__(self):  \n",
    "        st = \"(\"+str(self.data)+\", \"+str(self.mult)+\") -> [\"\n",
    "        if self.left != None:\n",
    "            st += str(self.left)\n",
    "        else: st += \"None\"\n",
    "        if self.next != None:\n",
    "            st += \", \"+str(self.next)\n",
    "        else: st += \", None\"\n",
    "        if self.right != None:\n",
    "            st += \", \"+str(self.right)\n",
    "        else: st += \", None\"\n",
    "        return st + \"]\"\n",
    "    \n",
    "class WordTree:\n",
    "    def __init__(self):\n",
    "        self.root = None\n",
    "        self.size = 0\n",
    "        \n",
    "    def __str__(self):\n",
    "        return str(self.root)\n",
    "\n",
    "    # returns True is the tree is empty, otherwise False    \n",
    "    def isEmpty(self):    \n",
    "        # TODO: needs to be implemented\n",
    "        return   \n",
    "\n",
    "    # adds the string st in the tree, increases the size by 1\n",
    "    # and returns None\n",
    "    def add(self, st):   \n",
    "        # TODO: needs to be implemented\n",
    "        return \n",
    "\n",
    "    # returns the number of times that string st is stored in the tree\n",
    "    def count(self, st):    \n",
    "        # TODO: needs to be implemented\n",
    "        return \n",
    "    \n",
    "    # removes one occurrence of string st from the tree and returns None\n",
    "    # if st does not occur in the tree then it returns without changing the tree\n",
    "    # it updates the size of the tree accordingly\n",
    "    def remove(self,st):    \n",
    "        # TODO: needs to be implemented\n",
    "        return"
   ]
  }
 ],
 "metadata": {
  "kernelspec": {
   "display_name": "Python 3",
   "language": "python",
   "name": "python3"
  },
  "language_info": {
   "codemirror_mode": {
    "name": "ipython",
    "version": 3
   },
   "file_extension": ".py",
   "mimetype": "text/x-python",
   "name": "python",
   "nbconvert_exporter": "python",
   "pygments_lexer": "ipython3",
   "version": "3.6.6"
  }
 },
 "nbformat": 4,
 "nbformat_minor": 2
}
