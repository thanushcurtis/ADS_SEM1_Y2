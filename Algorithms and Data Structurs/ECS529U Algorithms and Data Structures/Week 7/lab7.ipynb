{
 "cells": [
  {
   "cell_type": "code",
   "execution_count": 23,
   "metadata": {},
   "outputs": [],
   "source": [
    "class ArrayList:\n",
    "    def __init__(self):\n",
    "        self.inArray = [0 for i in range(10)]\n",
    "        self.count = 0\n",
    "        \n",
    "    def get(self, i):\n",
    "        return self.inArray[i]\n",
    "\n",
    "    def set(self, i, e):\n",
    "        self.inArray[i] = e\n",
    "\n",
    "    def length(self):\n",
    "        return self.count\n",
    "\n",
    "    def append(self, e):\n",
    "        self.inArray[self.count] = e\n",
    "        self.count += 1\n",
    "        if len(self.inArray) == self.count:\n",
    "            self._resizeUp()\n",
    "\n",
    "    def insert(self, i, e):\n",
    "        for j in range(self.count,i,-1):\n",
    "            self.inArray[j] = self.inArray[j-1]\n",
    "        self.inArray[i] = e\n",
    "        self.count += 1\n",
    "        if len(self.inArray) == self.count:\n",
    "            self._resizeUp()\n",
    "    \n",
    "    def remove(self, i):\n",
    "        self.count -= 1\n",
    "        val = self.inArray[i]\n",
    "        for j in range(i,self.count):\n",
    "            self.inArray[j] = self.inArray[j+1]\n",
    "        return val\n",
    "\n",
    "    def _resizeUp(self):\n",
    "        newArray = [0 for i in range(2*len(self.inArray))]\n",
    "        for j in range(len(self.inArray)):\n",
    "            newArray[j] = self.inArray[j]\n",
    "        self.inArray = newArray\n",
    "        \n",
    "    def _checkBounds(self, i, hi):  # checks whether i is in [0,hi]\n",
    "        if i < 0 or i > hi:\n",
    "            raise Exception(\"index \"+str(i)+\" out of bounds!\")"
   ]
  },
  {
   "cell_type": "code",
   "execution_count": 21,
   "metadata": {},
   "outputs": [],
   "source": [
    "class PQElement:\n",
    "    def __init__(self, v, p):\n",
    "        self.val = v\n",
    "        self.priority = p\n",
    "        \n",
    "    def __str__(self):\n",
    "        return \"(\"+str(self.val)+\",\"+str(self.priority)+\")\""
   ]
  }
 ],
 "metadata": {
  "kernelspec": {
   "display_name": "Python 3",
   "language": "python",
   "name": "python3"
  },
  "language_info": {
   "codemirror_mode": {
    "name": "ipython",
    "version": 3
   },
   "file_extension": ".py",
   "mimetype": "text/x-python",
   "name": "python",
   "nbconvert_exporter": "python",
   "pygments_lexer": "ipython3",
   "version": "3.6.6"
  }
 },
 "nbformat": 4,
 "nbformat_minor": 2
}
