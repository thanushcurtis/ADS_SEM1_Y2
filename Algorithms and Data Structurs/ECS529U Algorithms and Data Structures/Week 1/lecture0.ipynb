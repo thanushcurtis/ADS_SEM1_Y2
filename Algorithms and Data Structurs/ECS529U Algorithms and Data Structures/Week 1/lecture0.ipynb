{
 "cells": [
  {
   "cell_type": "markdown",
   "metadata": {},
   "source": [
    "# Lecture 0: Introduction to Python"
   ]
  },
  {
   "cell_type": "code",
   "execution_count": 19,
   "metadata": {},
   "outputs": [
    {
     "name": "stdout",
     "output_type": "stream",
     "text": [
      "1\n"
     ]
    }
   ],
   "source": [
    "# variable intialisation and use\n",
    "\n",
    "myVar = 0\n",
    "myVar = myVar + 1\n",
    "print(myVar)"
   ]
  },
  {
   "cell_type": "code",
   "execution_count": 1,
   "metadata": {},
   "outputs": [
    {
     "ename": "NameError",
     "evalue": "name 'myVar' is not defined",
     "output_type": "error",
     "traceback": [
      "\u001b[0;31m-----------------------------------------------------------------\u001b[0m",
      "\u001b[0;31mNameError\u001b[0m                       Traceback (most recent call last)",
      "\u001b[0;32m<ipython-input-1-1819a8fdb315>\u001b[0m in \u001b[0;36m<module>\u001b[0;34m()\u001b[0m\n\u001b[0;32m----> 1\u001b[0;31m \u001b[0mmyVar\u001b[0m \u001b[0;34m=\u001b[0m \u001b[0mmyVar\u001b[0m \u001b[0;34m+\u001b[0m \u001b[0;36m1\u001b[0m\u001b[0;34m\u001b[0m\u001b[0m\n\u001b[0m\u001b[1;32m      2\u001b[0m \u001b[0mprint\u001b[0m\u001b[0;34m(\u001b[0m\u001b[0mmyVar\u001b[0m\u001b[0;34m)\u001b[0m\u001b[0;34m\u001b[0m\u001b[0m\n",
      "\u001b[0;31mNameError\u001b[0m: name 'myVar' is not defined"
     ]
    }
   ],
   "source": [
    "# error: variable read without having been initialised\n",
    "\n",
    "myVar = myVar + 1\n",
    "print(myVar)"
   ]
  },
  {
   "cell_type": "code",
   "execution_count": 2,
   "metadata": {},
   "outputs": [
    {
     "name": "stdout",
     "output_type": "stream",
     "text": [
      "Enter you account balance: 0\n",
      "you are in trouble\n"
     ]
    }
   ],
   "source": [
    "# if-else example\n",
    "\n",
    "balance = int(input(\"Enter you account balance: \"))\n",
    "\n",
    "if balance == 0:\n",
    "    print(\"you are on the limit\")\n",
    "else:\n",
    "    print(\"you are doing good\")        "
   ]
  },
  {
   "cell_type": "code",
   "execution_count": 10,
   "metadata": {},
   "outputs": [
    {
     "name": "stdout",
     "output_type": "stream",
     "text": [
      "Enter you account balance: 0\n",
      "you doing good\n"
     ]
    }
   ],
   "source": [
    "# another if-else example\n",
    "\n",
    "balance = int(input(\"Enter you account balance: \"))\n",
    "\n",
    "if not balance >= 0:\n",
    "    print(\"you are in debt\")\n",
    "else:\n",
    "    print(\"you are doing OK\")        "
   ]
  },
  {
   "cell_type": "code",
   "execution_count": 11,
   "metadata": {},
   "outputs": [
    {
     "name": "stdout",
     "output_type": "stream",
     "text": [
      "Enter you account balance: -100\n",
      "Enter your overdraft limit: 50\n",
      "you are in trouble\n"
     ]
    }
   ],
   "source": [
    "# another if-else example\n",
    "\n",
    "balance = int(input(\"Enter you account balance: \"))\n",
    "overdraft = int(input(\"Enter your overdraft limit: \"))\n",
    "\n",
    "if overdraft + balance < 0:\n",
    "    print(\"you are in trouble\")\n",
    "else:\n",
    "    print(\"you are doing OK\")"
   ]
  },
  {
   "cell_type": "code",
   "execution_count": 17,
   "metadata": {},
   "outputs": [
    {
     "name": "stdout",
     "output_type": "stream",
     "text": [
      "Enter you account balance: 0\n",
      "Enter your overdraft limit: 123\n",
      "you are on the limit\n"
     ]
    }
   ],
   "source": [
    "# an if-elif-else example\n",
    "\n",
    "balance = int(input(\"Enter you account balance: \"))\n",
    "overdraft = int(input(\"Enter your overdraft limit: \"))\n",
    "\n",
    "if balance > 0:\n",
    "    print(\"you are doing good\")\n",
    "elif balance == 0:\n",
    "    print(\"you are on the limit\")\n",
    "elif balance + overdraft >= 0:\n",
    "    print(\"you are in debt\")    \n",
    "else: \n",
    "    print(\"you are in trouble\")"
   ]
  },
  {
   "cell_type": "code",
   "execution_count": 6,
   "metadata": {},
   "outputs": [
    {
     "name": "stdout",
     "output_type": "stream",
     "text": [
      "10\n",
      "9\n",
      "8\n",
      "7\n",
      "6\n",
      "5\n",
      "4\n",
      "3\n",
      "2\n",
      "1\n"
     ]
    }
   ],
   "source": [
    "i = 10\n",
    "while True:\n",
    "    if i == 0:\n",
    "        break\n",
    "    print(i)\n",
    "    i -= 1"
   ]
  },
  {
   "cell_type": "code",
   "execution_count": 26,
   "metadata": {},
   "outputs": [
    {
     "name": "stdout",
     "output_type": "stream",
     "text": [
      "the best string ever\n",
      "the result is: 75895\n",
      "75895\n"
     ]
    }
   ],
   "source": [
    "myString = \"the best string ever\"\n",
    "print(myString)\n",
    "\n",
    "def f(n):\n",
    "    return n**3+n**2+n+1\n",
    "\n",
    "result = f(42)   # f is a function from integers to integers\n",
    "myString = \"the result is: \"+str(result)\n",
    "print(myString)\n",
    "\n",
    "print(f(42))"
   ]
  },
  {
   "cell_type": "code",
   "execution_count": 2,
   "metadata": {},
   "outputs": [
    {
     "name": "stdout",
     "output_type": "stream",
     "text": [
      "Type in your name: N\n",
      "the name I got is: N\n",
      "Enter you account balance: -10\n",
      "you are in trouble N\n"
     ]
    }
   ],
   "source": [
    "name = input(\"Type in your name: \")\n",
    "print(\"the name I got is: \"+name)\n",
    "\n",
    "balance = int(input(\"Enter you account balance: \"))\n",
    "if balance < 0:\n",
    "    message = \"you are in trouble \"\n",
    "else:\n",
    "    message = \"you are doing OK \"\n",
    "print(message+name)"
   ]
  },
  {
   "cell_type": "code",
   "execution_count": 14,
   "metadata": {
    "scrolled": true
   },
   "outputs": [
    {
     "ename": "NameError",
     "evalue": "name 'myArray' is not defined",
     "output_type": "error",
     "traceback": [
      "\u001b[0;31m-----------------------------------------------------------------\u001b[0m",
      "\u001b[0;31mNameError\u001b[0m                       Traceback (most recent call last)",
      "\u001b[0;32m<ipython-input-14-fc2c22286f5e>\u001b[0m in \u001b[0;36m<module>\u001b[0;34m()\u001b[0m\n\u001b[0;32m----> 1\u001b[0;31m \u001b[0mmyArray\u001b[0m\u001b[0;34m[\u001b[0m\u001b[0;36m0\u001b[0m\u001b[0;34m]\u001b[0m \u001b[0;34m=\u001b[0m \u001b[0;36m42\u001b[0m   \u001b[0;31m# set the first element of myArray to 42\u001b[0m\u001b[0;34m\u001b[0m\u001b[0m\n\u001b[0m",
      "\u001b[0;31mNameError\u001b[0m: name 'myArray' is not defined"
     ]
    }
   ],
   "source": [
    " myArray[0] = 42   # set the first element of myArray to 42"
   ]
  },
  {
   "cell_type": "code",
   "execution_count": 15,
   "metadata": {},
   "outputs": [
    {
     "name": "stdout",
     "output_type": "stream",
     "text": [
      "[0, 0, 0, 0, 0, 0, 0, 0, 0, 0]\n",
      "[0, 1, 4, 9, 16, 25, 36, 49, 64, 81]\n"
     ]
    }
   ],
   "source": [
    "myArray = [0 for i in range(10)]\n",
    "print(myArray)\n",
    "\n",
    "myArray = [i**2 for i in range(10)]\n",
    "print(myArray)"
   ]
  },
  {
   "cell_type": "code",
   "execution_count": 5,
   "metadata": {},
   "outputs": [
    {
     "name": "stdout",
     "output_type": "stream",
     "text": [
      "0\n",
      "225\n",
      "number 130 is not a square\n",
      "number 144 is the square of 12\n"
     ]
    }
   ],
   "source": [
    "def plusOne(n):   # function with integer input, integer output\n",
    "    return n+1\n",
    "\n",
    "def printSquare(n):  # integer input, void output\n",
    "    print(n**2)\n",
    "\n",
    "def printIfSquare(n):  # integer input, void output\n",
    "    for i in range(n+1):\n",
    "        if i**2 == n:\n",
    "            print(\"number \"+str(n)+\" is the square of \"+str(i))\n",
    "            return\n",
    "        if i**2 > n:\n",
    "            print(\"number \"+str(n)+\" is not a square\")\n",
    "            return\n",
    "\n",
    "print(plusOne(-1))\n",
    "printSquare(15)\n",
    "printIfSquare(130)\n",
    "printIfSquare(144)"
   ]
  },
  {
   "cell_type": "code",
   "execution_count": 6,
   "metadata": {},
   "outputs": [
    {
     "name": "stdout",
     "output_type": "stream",
     "text": [
      "[3, 5] [4, 6]\n",
      "1.4142135623730951\n"
     ]
    }
   ],
   "source": [
    "import math\n",
    "\n",
    "class Coordinate:\n",
    "    def __init__(self, x, y):\n",
    "        self.x = x\n",
    "        self.y = y\n",
    "\n",
    "    def distance(self, coord):\n",
    "        return (math.sqrt((self.x-coord.x)**2+(self.y-coord.y)**2))\n",
    "\n",
    "    def __str__(self):\n",
    "        return (str([self.x,self.y]))\n",
    "\n",
    "c1 = Coordinate(3,5)\n",
    "c2 = Coordinate(4,6)\n",
    "print(c1, c2)\n",
    "print(c1.distance(c2))"
   ]
  }
 ],
 "metadata": {
  "kernelspec": {
   "display_name": "Python 3",
   "language": "python",
   "name": "python3"
  },
  "language_info": {
   "codemirror_mode": {
    "name": "ipython",
    "version": 3
   },
   "file_extension": ".py",
   "mimetype": "text/x-python",
   "name": "python",
   "nbconvert_exporter": "python",
   "pygments_lexer": "ipython3",
   "version": "3.6.6"
  }
 },
 "nbformat": 4,
 "nbformat_minor": 2
}
