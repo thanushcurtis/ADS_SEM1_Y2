{
 "cells": [
  {
   "cell_type": "markdown",
   "metadata": {},
   "source": [
    "# Lecture 1: Introduction"
   ]
  },
  {
   "cell_type": "code",
   "execution_count": 1,
   "metadata": {},
   "outputs": [
    {
     "name": "stdout",
     "output_type": "stream",
     "text": [
      "4\n",
      "-1\n"
     ]
    }
   ],
   "source": [
    "def search(A, k):\n",
    "    found = -1\n",
    "    for i in range(len(A)):\n",
    "        if A[i] == k:\n",
    "            found = i\n",
    "    return found\n",
    "\n",
    "print(search([1,2,3,4,5,6],5))\n",
    "print(search([1,2,1,3,4,1],5))    "
   ]
  },
  {
   "cell_type": "code",
   "execution_count": 1,
   "metadata": {},
   "outputs": [
    {
     "name": "stdout",
     "output_type": "stream",
     "text": [
      "4\n",
      "-1\n"
     ]
    }
   ],
   "source": [
    "def search2(A, k):\n",
    "    for i in range(len(A)):\n",
    "        if A[i] == k:\n",
    "            return i\n",
    "    return -1\n",
    "\n",
    "print(search2([1,2,3,4,5,6],5))\n",
    "print(search2([1,2,1,3,4,1],5))    "
   ]
  },
  {
   "cell_type": "code",
   "execution_count": 32,
   "metadata": {},
   "outputs": [
    {
     "name": "stdout",
     "output_type": "stream",
     "text": [
      "4\n",
      "-1\n",
      " "
     ]
    }
   ],
   "source": [
    "def sortedSearch(A, k):\n",
    "    for i in range(len(A)):\n",
    "        if A[i] == k:\n",
    "            return i\n",
    "        if A[i] > k:\n",
    "            return -1\n",
    "    return -1\n",
    "\n",
    "print(sortedSearch([1,2,3,4,5,6],5))\n",
    "print(sortedSearch([1,2,1,3,4,1],5))    "
   ]
  },
  {
   "cell_type": "code",
   "execution_count": 19,
   "metadata": {},
   "outputs": [
    {
     "name": "stdout",
     "output_type": "stream",
     "text": [
      "4\n",
      "-1\n",
      "4\n",
      "-1\n"
     ]
    }
   ],
   "source": [
    "def binSearch(A, k):\n",
    "    lo = 0\n",
    "    hi = len(A)-1\n",
    "    while (lo <= hi):\n",
    "        mid = (lo+hi)//2\n",
    "        if A[mid] == k:\n",
    "            return mid\n",
    "        else: \n",
    "            if A[mid] < k:\n",
    "                lo = mid+1\n",
    "            else:\n",
    "                hi = mid-1\n",
    "    return -1\n",
    "\n",
    "\n",
    "print(binSearch([1,2,3,4,5,6],5))\n",
    "print(binSearch([1,2,1,3,4,1],5))    \n",
    "print(binSearch([1,2,3,4,5,6,7],5))\n",
    "print(binSearch([1,2,1,3,4,1,7],5))  "
   ]
  },
  {
   "cell_type": "code",
   "execution_count": 2,
   "metadata": {},
   "outputs": [
    {
     "name": "stdout",
     "output_type": "stream",
     "text": [
      "* For sorted linear search (best case):\n",
      "CPU times: user 4 µs, sys: 0 ns, total: 4 µs\n",
      "Wall time: 6.91 µs\n",
      "* For sorted linear search (worst case):\n",
      "CPU times: user 684 µs, sys: 0 ns, total: 684 µs\n",
      "Wall time: 689 µs\n",
      "* For binary search (worst case):\n",
      "CPU times: user 11 µs, sys: 0 ns, total: 11 µs\n",
      "Wall time: 14.1 µs\n"
     ]
    },
    {
     "data": {
      "text/plain": [
       "[1, 2]"
      ]
     },
     "execution_count": 2,
     "metadata": {},
     "output_type": "execute_result"
    }
   ],
   "source": [
    "# time comparison of linear and binary searches (best/worst cases) on a large sorted A\n",
    "\n",
    "def sortedSearch(A, k):\n",
    "    for i in range(len(A)):\n",
    "        if A[i] == k:\n",
    "            return i\n",
    "        if A[i] > k:\n",
    "            return -1\n",
    "    return -1\n",
    "\n",
    "def binSearch(A, k):\n",
    "    lo = 0\n",
    "    hi = len(A)-1\n",
    "    while (lo <= hi):\n",
    "        mid = (lo+hi)//2\n",
    "        if A[mid] == k:\n",
    "            return mid\n",
    "        else: \n",
    "            if A[mid] < k:\n",
    "                lo = mid+1\n",
    "            else:\n",
    "                hi = mid-1\n",
    "    return -1\n",
    "\n",
    "# using Jupyter's time command to time searching functions\n",
    "# on a rather simple array\n",
    "\n",
    "# this is a big array: contains 5000 elements (all 24)\n",
    "A = [24 for i in range(5000)]\n",
    "\n",
    "print(\"* For sorted linear search (best case):\")\n",
    "%time sortedSearch(A,0)\n",
    "\n",
    "print(\"* For sorted linear search (worst case):\")\n",
    "%time sortedSearch(A,42)\n",
    "\n",
    "print(\"* For binary search (worst case):\")\n",
    "%time binSearch(A,42)\n",
    "\n",
    "A = [1,2]\n",
    "\n",
    "def foo(A):\n",
    "    A[0]=2\n",
    "    A = [1,2]\n",
    "    \n",
    "A"
   ]
  }
 ],
 "metadata": {
  "kernelspec": {
   "display_name": "Python 3",
   "language": "python",
   "name": "python3"
  },
  "language_info": {
   "codemirror_mode": {
    "name": "ipython",
    "version": 3
   },
   "file_extension": ".py",
   "mimetype": "text/x-python",
   "name": "python",
   "nbconvert_exporter": "python",
   "pygments_lexer": "ipython3",
   "version": "3.6.6"
  }
 },
 "nbformat": 4,
 "nbformat_minor": 2
}
