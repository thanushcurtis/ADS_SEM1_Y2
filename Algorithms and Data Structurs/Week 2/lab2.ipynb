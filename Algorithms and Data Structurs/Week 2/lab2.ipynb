{
 "cells": [
  {
   "cell_type": "markdown",
   "metadata": {},
   "source": [
    "# ECS529U Algorithms and Data Structures\n",
    "# Lab sheet 2\n",
    "\n",
    "This second lab gets you to work array algorithms. For each of the questions, write down and run at least 3\n",
    "tests, trying to capture corner cases (e.g. empty arrays). In the `lab2-tests.ipynb` file, we have\n",
    "already provided you with tests for the first two Questions.\n",
    "\n",
    "**Marks (max 5):** Questions 1-2: 2 | Question 3: 1 | Questions 4-7: 0.5 each"
   ]
  },
  {
   "cell_type": "markdown",
   "metadata": {},
   "source": [
    "## Question 1\n",
    "\n",
    "Write a Python function:\n",
    "```\n",
    "def multArray(A, k)\n",
    "```\n",
    "which takes an array of integers and an integer as inputs and multiplies every integer in the array by the integer argument. \n",
    "\n",
    "For example, if it takes the array `[5,12,31,7,25]` and the integer `10` as inputs, it will change the array to `[50,120,310,70,250]`."
   ]
  },
  {
   "cell_type": "code",
   "execution_count": null,
   "metadata": {},
   "outputs": [],
   "source": [
    "# tests\n",
    "tests = (([5,12,31,7,25],10), \n",
    "         ([-5,12,-31,7,25],10),\n",
    "         ([-5,12,-31,7,25],-1),\n",
    "         ([-5,12,-31,7,25],0),\n",
    "         ([],10),\n",
    "         ([],-1))\n",
    "\n",
    "# should print: [50,120,310,70,250],[-50,120,-310,70,250],[5,-12,31,-7,-25],[0,0,0,0,0],[],[]\n",
    "for (A,x) in tests: \n",
    "    multArray(A, x)\n",
    "    print(A)"
   ]
  },
  {
   "cell_type": "markdown",
   "metadata": {},
   "source": [
    "## Question 2\n",
    "\n",
    "Write a Python function:\n",
    "```\n",
    "def multArray2(A, k)\n",
    "```\n",
    "which performs the same task as question1, but does it by creating and returning a new array with the multiplied values rather than changing the array passed to it.\n",
    "\n",
    "For example, if it takes the array `[5,12,31,7,25]` and the integer `10` as inputs, it will return the array `[50,120,310,70,250]` but the initial array will remain `[5,12,31,7,25]`."
   ]
  },
  {
   "cell_type": "code",
   "execution_count": null,
   "metadata": {},
   "outputs": [],
   "source": [
    "# Use the same tests as in Question 1\n",
    "# you need to rewrite the test code as now a new array is created"
   ]
  },
  {
   "cell_type": "markdown",
   "metadata": {},
   "source": [
    "## Question 3\n",
    "\n",
    "Write a Python function:\n",
    "```\n",
    "def biggestWithPos(A)\n",
    "```\n",
    "which takes an array of integers and returns the biggest integer in the array along with its position, as a pair. For example, if it takes the array `[5,12,31,7,25]` as input it will return the pair `(31,2)`. If `A` is empty, the function should return `None` (which corresponds to the null value in Python).\n",
    "\n",
    "*Note:* The specification does not mention which position to return in case the biggest element occurs in more than one positions, so the function can return any of those positions."
   ]
  },
  {
   "cell_type": "code",
   "execution_count": null,
   "metadata": {},
   "outputs": [],
   "source": [
    "# some tests, but you can add your own ones as well\n",
    "tests = ([5,12,31,7,25],[-5,12,-31,7,25],[-5,-12,-31,-7,-25],[12,13],[],[-5])\n",
    "\n",
    "for A in tests:\n",
    "    print(biggestWithPos(A)) "
   ]
  },
  {
   "cell_type": "markdown",
   "metadata": {},
   "source": [
    "## Question 4\n",
    "\n",
    "Write a function \n",
    "```\n",
    "def biggestInPoss(A)\n",
    "```\n",
    "which takes an array of integers and returns an array containing all the positions of the largest integer in the array. For example, if it takes the array `[5,12,31,7,25]` as input, it will return `[2]`, and if it takes the array `[5,12,31,7,25,31,18,7,31]` it will return `[2,5,8]`. If it takes `[]` as it argument, it should return `[]`.\n",
    "\n",
    "*Hint:* the array of indices that you need to return can be of arbitrary size – e.g. in the examples above it is `[2]`, or `[2,5,8]` or `[]` – so you might want to build it on the fly. You can use the function `append` that we saw in the lecture Exercises of week 1, which takes an array and an integer and creates new array extending the old one with that integer."
   ]
  },
  {
   "cell_type": "code",
   "execution_count": null,
   "metadata": {},
   "outputs": [],
   "source": [
    "# some tests, you can add your own ones as well\n",
    "print(biggestInPoss([5,12,31,7,25,31,18,7,31]))\n",
    "print(biggestInPoss([]))\n",
    "print(biggestInPoss([1]))"
   ]
  },
  {
   "cell_type": "markdown",
   "metadata": {},
   "source": [
    "## Question 5\n",
    "\n",
    "Write a Python function:\n",
    "```\n",
    "def occurInBoth(A, B)\n",
    "```\n",
    "which takes two arrays of integers, each of which has no repeating elements, and returns a new array containing all integers that occur in both arrays. For example, if it takes the arrays [`5,12,31,7,25]` and `[4,12,8,7,42,31]` it will return `[12,31,7]` (the order of elements in the return array does not matter).\n",
    "\n",
    "*Hint:* you will probably find useful to use the function `isIn` that we saw in the lecture Exercises of week 1, which checks whether a given element appears inside a given array. "
   ]
  },
  {
   "cell_type": "code",
   "execution_count": null,
   "metadata": {},
   "outputs": [],
   "source": [
    "# some tests, but you can add your own ones as well\n",
    "tests = (([5,12,31,7,25],[4,12,8,7,42,31]),\n",
    "         ([5,31,7,12,25],[]),\n",
    "         ([],[4,12,8,7,42,31]),\n",
    "         ([4,12,8,7,42,31],[5,12,7,31,7,25]))\n",
    "\n",
    "for (A,B) in tests: print(occurInBoth(A,B))"
   ]
  },
  {
   "cell_type": "markdown",
   "metadata": {},
   "source": [
    "## Question 6\n",
    "\n",
    "Write a Python function:\n",
    "```\n",
    "def occurInBothReps(A, B)\n",
    "```\n",
    "which takes two arrays of integers, which may have repeating elements, and returns a new array containing all integers that occur in both arrays. For example, if it takes the arrays [`5,7,12,31,7,25]` and `[4,12,8,12,7,42,31]` it will return `[7,12,31]` (i.e. the repeated elements are only counted once)."
   ]
  },
  {
   "cell_type": "code",
   "execution_count": null,
   "metadata": {},
   "outputs": [],
   "source": [
    "# some tests, but you can add your own ones as well\n",
    "tests = (([5,7,12,31,7,25],[4,12,8,12,7,42,31]),\n",
    "         ([5,31,7,12,25],[4,12,8,7,42,31]),\n",
    "         ([5,31,7,12,25],[]),\n",
    "         ([],[4,12,8,7,42,31]))\n",
    "\n",
    "for (A,B) in tests: print(occurInBothReps(A,B))"
   ]
  },
  {
   "cell_type": "markdown",
   "metadata": {},
   "source": [
    "## Question 7\n",
    "\n",
    "Consider how a different algorithm could be used for Question 5 if it were known that both arrays passed to the method were sorted (in increasing order – e.g. `[1,5,5,23,56]` is sorted, whereas `[1,23,5,56,5]` is not). \n",
    "Write a function:\n",
    "```\n",
    "def occurInBothSorted(A,B)\n",
    "```\n",
    "which has the same specification as `occurInBoth` but where `A` and `B` are sorted. Your function should examine each element of `A` and `B` only once. Does your solution have linear time overall complexity?"
   ]
  },
  {
   "cell_type": "code",
   "execution_count": null,
   "metadata": {},
   "outputs": [],
   "source": [
    "# some tests, but you can add your own ones as well\n",
    "tests = (([1,3,5,5,17,17,23,24,31,56],[3,5,10,23,23,37,42,56]),\n",
    "         ([1,3,5,5,17,17,23,24,31,56],[4]),\n",
    "         ([4],[4,7,8,31,42]),\n",
    "         ([],[4,7,8,31,42]),\n",
    "         ([4],[]))\n",
    "\n",
    "for (A,B) in tests: print(occurInBothSorted(A,B))"
   ]
  }
 ],
 "metadata": {
  "kernelspec": {
   "display_name": "Python 3 (ipykernel)",
   "language": "python",
   "name": "python3"
  },
  "language_info": {
   "codemirror_mode": {
    "name": "ipython",
    "version": 3
   },
   "file_extension": ".py",
   "mimetype": "text/x-python",
   "name": "python",
   "nbconvert_exporter": "python",
   "pygments_lexer": "ipython3",
   "version": "3.10.6"
  }
 },
 "nbformat": 4,
 "nbformat_minor": 2
}
