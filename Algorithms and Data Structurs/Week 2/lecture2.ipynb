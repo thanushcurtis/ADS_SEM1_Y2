{
 "cells": [
  {
   "cell_type": "markdown",
   "metadata": {},
   "source": [
    "# Lecture 2: Sorting, Running Time and Complexity"
   ]
  },
  {
   "cell_type": "code",
   "execution_count": null,
   "metadata": {},
   "outputs": [],
   "source": [
    "def selectionSort(A):\n",
    "    for i in range(len(A)):\n",
    "        imin = findMin(i,A)\n",
    "        swap(i,imin,A)\n",
    "\n",
    "def findMin(i, A):\n",
    "    imin = i\n",
    "    for j in range(i+1,len(A)):\n",
    "        if A[j] < A[imin]: \n",
    "            imin = j\n",
    "    return imin\n",
    "\n",
    "def swap(i, j, A):\n",
    "    tmp = A[i]\n",
    "    A[i] = A[j]\n",
    "    A[j] = tmp\n",
    "    \n",
    "A = [2,1,4,3]    \n",
    "selectionSort(A)\n",
    "print(A)\n",
    "A = [3,21,65,1,3,1,3,4,5,11,5,656,5,1,1,5,1,41,1,4,5,6,7,12]\n",
    "selectionSort(A)\n",
    "print(A)\n",
    "A = []\n",
    "selectionSort(A)\n",
    "print(A)\n",
    "A = [1,2,3]\n",
    "selectionSort(A)\n",
    "print(A)"
   ]
  },
  {
   "cell_type": "code",
   "execution_count": null,
   "metadata": {},
   "outputs": [],
   "source": [
    "def insertionSort(A):\n",
    "    for i in range(1,len(A)):\n",
    "        insert(A[i],A,i)\n",
    "\n",
    "def insert(v, A, hi):\n",
    "    for i in range (hi-1,-1,-1):\n",
    "        if v >= A[i]:\n",
    "            A[i+1] = v\n",
    "            return\n",
    "        A[i+1] = A[i]\n",
    "    A[0] = v\n",
    "\n",
    "A = [2,1,4,3]    \n",
    "insertionSort(A)\n",
    "print(A)\n",
    "A = [3,21,65,1,3,1,3,4,5,11,5,656,5,1,1,5,1,41,1,4,5,6,7,12]\n",
    "insertionSort(A)\n",
    "print(A)\n",
    "A = []\n",
    "insertionSort(A)\n",
    "print(A)\n",
    "A = [1,2,3]\n",
    "insertionSort(A)\n",
    "print(A)"
   ]
  },
  {
   "cell_type": "code",
   "execution_count": null,
   "metadata": {},
   "outputs": [],
   "source": [
    "def sortedSearch(A, n):\n",
    "    for i in range(len(A)):\n",
    "        if A[i] == n:\n",
    "            return i\n",
    "        if A[i] > n:\n",
    "            return -1\n",
    "    return -1\n",
    "\n",
    "print(sortedSearch([1,2,3,4,5,6],5))\n",
    "print(sortedSearch([1,2,3,4,5,6,7],5))\n",
    "print(sortedSearch([1,2,3,4,5,6,7],7))\n",
    "print(sortedSearch([1,2,3,4,5,6,7],1))\n",
    "print(sortedSearch([1,2,3,4,5,6],6))\n",
    "print(sortedSearch([1,2,3,4,5,6],1))\n",
    "print(sortedSearch([1,2,3,4,5,6],0))\n",
    "print(sortedSearch([1,2,3,4,5,6,7],0))  "
   ]
  },
  {
   "cell_type": "code",
   "execution_count": null,
   "metadata": {},
   "outputs": [],
   "source": [
    "def sortedSearch2(A, n):\n",
    "    if A == []: return -1\n",
    "    for i in range(len(A)):\n",
    "        if A[i] >= n:\n",
    "            break\n",
    "    if A[i] == n: return i\n",
    "    return -1\n",
    "\n",
    "print(sortedSearch2([],0))\n",
    "print(sortedSearch2([1,2,3,4,5,6],5))\n",
    "print(sortedSearch2([1,2,3,4,5,6,7],5))\n",
    "print(sortedSearch2([1,2,3,4,5,6,7],7))\n",
    "print(sortedSearch2([1,2,3,4,5,6,7],1))\n",
    "print(sortedSearch2([1,2,3,4,5,6],6))\n",
    "print(sortedSearch2([1,2,3,4,5,6],1))\n",
    "print(sortedSearch2([1,2,3,4,5,6],0))\n",
    "print(sortedSearch2([1,2,3,4,5,6,7],0))  "
   ]
  },
  {
   "cell_type": "code",
   "execution_count": null,
   "metadata": {},
   "outputs": [],
   "source": [
    "def binSearch(A, n):\n",
    "    low = 0\n",
    "    high = len(A)-1\n",
    "    while (low <= high):\n",
    "        mid = (low+high)//2\n",
    "        if A[mid] == n:\n",
    "            return mid\n",
    "        elif A[mid] < n:\n",
    "            low = mid+1\n",
    "        else:\n",
    "            high = mid-1\n",
    "    return -1\n",
    "\n",
    "print(binSearch([1,2,3,4,5,6],5))\n",
    "print(binSearch([1,2,3,4,5,6,7],5))\n",
    "print(binSearch([1,2,3,4,5,6,7],7))\n",
    "print(binSearch([1,2,3,4,5,6,7],1))\n",
    "print(binSearch([1,2,3,4,5,6],6))\n",
    "print(binSearch([1,2,3,4,5,6],1))\n",
    "print(binSearch([1,2,3,4,5,6],0))\n",
    "print(binSearch([1,2,3,4,5,6,7],0))"
   ]
  }
 ],
 "metadata": {
  "kernelspec": {
   "display_name": "Python 3",
   "language": "python",
   "name": "python3"
  },
  "language_info": {
   "codemirror_mode": {
    "name": "ipython",
    "version": 3
   },
   "file_extension": ".py",
   "mimetype": "text/x-python",
   "name": "python",
   "nbconvert_exporter": "python",
   "pygments_lexer": "ipython3",
   "version": "3.8.2"
  }
 },
 "nbformat": 4,
 "nbformat_minor": 2
}
